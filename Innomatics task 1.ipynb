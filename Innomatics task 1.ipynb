{
 "cells": [
  {
   "cell_type": "code",
   "execution_count": null,
   "metadata": {},
   "outputs": [],
   "source": [
    "\n",
    "#Say \"Hello World!\" with python\"\n",
    "print(\"Hello, World!\")"
   ]
  },
  {
   "cell_type": "code",
   "execution_count": null,
   "metadata": {},
   "outputs": [],
   "source": [
    "#python if else\n",
    "def Weird():\n",
    "    while n != 0:\n",
    "        if n % 2 != 0:\n",
    "            print(\"Weird\")\n",
    "            break\n",
    "\n",
    "        elif (n % 2 == 0) and n in range(2, 6):\n",
    "            print(\"Not Weird\")\n",
    "            break\n",
    "        \n",
    "        elif (n % 2 == 0) and n in range(6, 21):\n",
    "            print(\"Weird\")\n",
    "            break\n",
    "        \n",
    "        elif (n % 2 == 0) and (n > 20):\n",
    "            print(\"Not Weird\")\n",
    "            break\n",
    " \n",
    "n = int(input(\"\"))\n",
    "Weird()"
   ]
  },
  {
   "cell_type": "code",
   "execution_count": null,
   "metadata": {},
   "outputs": [],
   "source": [
    "\n",
    "#Arithmetic Operator\n",
    "if __name__ == '__main__':\n",
    "    a = int(input(\"\"))\n",
    "    b = int(input(\"\"))\n",
    "    print(a + b)\n",
    "    print(a - b)\n",
    "    print(a * b)"
   ]
  },
  {
   "cell_type": "code",
   "execution_count": null,
   "metadata": {},
   "outputs": [],
   "source": [
    "\n",
    "#Python division \n",
    "if __name__ == '__main__':\n",
    "    a = int(input())\n",
    "    b = int(input())\n",
    "    print(a // b)\n",
    "    print(a / b)"
   ]
  },
  {
   "cell_type": "code",
   "execution_count": null,
   "metadata": {},
   "outputs": [],
   "source": [
    "#Loop\n",
    "if __name__ == '__main__':\n",
    "    n = int(input())\n",
    "    for i in range( n):\n",
    "        print(i * i)"
   ]
  },
  {
   "cell_type": "code",
   "execution_count": null,
   "metadata": {},
   "outputs": [],
   "source": [
    "#Write a function\n",
    "def is_leap(year):\n",
    "    leap = False\n",
    "    if (year % 100 == 0) and (year % 400 != 0):\n",
    "        return leap\n",
    "      \n",
    "    elif (year % 4 == 0) and not (year % 100 == 0):\n",
    "        leap = True\n",
    "    \n",
    "    elif (year % 4 == 0) and (year % 400 == 0):             \n",
    "        leap = True\n",
    "    \n",
    "    return leap\n",
    "    \n",
    "        \n",
    "    \n",
    "year = int(input())\n",
    "print(is_leap(year))\n"
   ]
  },
  {
   "cell_type": "code",
   "execution_count": null,
   "metadata": {},
   "outputs": [],
   "source": [
    "\n",
    "#print Function\n",
    "if __name__ == '__main__':\n",
    "    n = int(input(\"\"))\n",
    "    elements = []\n",
    "    for i in range(1, n+1):\n",
    "        elements.append(i)\n",
    "        str_num = [str(num) for num in elements]\n",
    "        numbers = \"\".join(str_num)\n",
    "    print(numbers)"
   ]
  },
  {
   "cell_type": "code",
   "execution_count": null,
   "metadata": {},
   "outputs": [],
   "source": []
  }
 ],
 "metadata": {
  "kernelspec": {
   "display_name": "Python 3",
   "language": "python",
   "name": "python3"
  },
  "language_info": {
   "codemirror_mode": {
    "name": "ipython",
    "version": 3
   },
   "file_extension": ".py",
   "mimetype": "text/x-python",
   "name": "python",
   "nbconvert_exporter": "python",
   "pygments_lexer": "ipython3",
   "version": "3.7.4"
  }
 },
 "nbformat": 4,
 "nbformat_minor": 2
}
