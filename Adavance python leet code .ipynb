{
 "cells": [
  {
   "cell_type": "code",
   "execution_count": null,
   "metadata": {},
   "outputs": [],
   "source": [
    "#Running  Sum of 1-D array \n",
    "class Solution:\n",
    "    def runningSum(self, nums: List[int]) -> List[int]:\n",
    "        ans = []\n",
    "        c = 0    \n",
    "        for x in nums:\n",
    "            c +=x\n",
    "            ans .append(c)\n",
    "        return (ans)\n",
    "    \n"
   ]
  },
  {
   "cell_type": "code",
   "execution_count": 2,
   "metadata": {},
   "outputs": [],
   "source": [
    "#Shuffle array \n",
    "class Solution:\n",
    "    def shuffle(self, nums: List[int], n: int) -> List[int]:\n",
    "        ans =[]\n",
    "        N = len(nums)\n",
    "        \n",
    "        for index in range(N//2):\n",
    "            ans.append(nums[index])\n",
    "            ans.append(nums[index+N//2])\n",
    "            \n",
    "        return ans"
   ]
  },
  {
   "cell_type": "code",
   "execution_count": null,
   "metadata": {},
   "outputs": [],
   "source": [
    "#Kids with the most number of candies \n",
    "class Solution:\n",
    "    def kidsWithCandies(self, candies: List[int], extraCandies: int) -> List[bool]:\n",
    "        ans =[]\n",
    "        for candy in candies:\n",
    "            now =candy + extraCandies\n",
    "            \n",
    "            b = True\n",
    "            for candy2 in candies:\n",
    "                if now <candy2:\n",
    "                    b=False\n",
    "            ans.append(b)\n",
    "        return ans"
   ]
  }
 ],
 "metadata": {
  "kernelspec": {
   "display_name": "Python 3",
   "language": "python",
   "name": "python3"
  },
  "language_info": {
   "codemirror_mode": {
    "name": "ipython",
    "version": 3
   },
   "file_extension": ".py",
   "mimetype": "text/x-python",
   "name": "python",
   "nbconvert_exporter": "python",
   "pygments_lexer": "ipython3",
   "version": "3.7.4"
  }
 },
 "nbformat": 4,
 "nbformat_minor": 2
}
