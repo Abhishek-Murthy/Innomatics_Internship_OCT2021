{
 "cells": [
  {
   "cell_type": "code",
   "execution_count": null,
   "metadata": {},
   "outputs": [],
   "source": [
    "#List Comprehension\n",
    "if __name__ == '__main__':\n",
    "    x = int(input())\n",
    "    y = int(input())\n",
    "    z = int(input())\n",
    "    n = int(input())\n",
    "    per= [[i,j,k] for i in range(0, x+1) for j in range(0, y+1) for k in range(0, z+1) if (i+j+k) != n]\n",
    "    \n",
    "    print(per)"
   ]
  },
  {
   "cell_type": "code",
   "execution_count": null,
   "metadata": {},
   "outputs": [],
   "source": [
    "\n",
    "#Find the Runner_up Score\n",
    "if __name__ == '__main__':\n",
    "    n = int(input())\n",
    "    arr = set(map(int, input().split()))\n",
    "    max_arr = max(arr)\n",
    "    arr.remove(max_arr)\n",
    "    print(max(arr))"
   ]
  },
  {
   "cell_type": "code",
   "execution_count": null,
   "metadata": {},
   "outputs": [],
   "source": [
    "\n",
    "if __name__ == '__main__':\n",
    "    records= []\n",
    "    for _ in range(int(input())):\n",
    "        name = input()\n",
    "        score = float(input())\n",
    "        records.append([score, name])\n",
    "\n",
    "    records.sort()\n",
    "    b = [i for i in records if i[0] != records[0][0]]\n",
    "    c = [j for j in b if j[0] == b[0][0]]\n",
    "    \n",
    "    c.sort(key=lambda x: x[1])\n",
    "    for i in range(len(c)):\n",
    "        print(c[i][1])"
   ]
  },
  {
   "cell_type": "code",
   "execution_count": null,
   "metadata": {},
   "outputs": [],
   "source": [
    "#Finding the percentage\n",
    "if __name__ == '__main__':\n",
    "    n = int(input())\n",
    "    student_marks = {}\n",
    "    for i in range(n):\n",
    "        name, *line = input().split()\n",
    "        scores = list(map(float, line))\n",
    "        student_marks[name] = float((sum(scores)) / len(scores))\n",
    "    query_name = input()\n",
    "    average = student_marks.get(query_name)\n",
    "    print(\"%.2f\" % average)"
   ]
  },
  {
   "cell_type": "code",
   "execution_count": null,
   "metadata": {},
   "outputs": [],
   "source": [
    "#lists\n",
    "if __name__ == '__main__':\n",
    "    N = int(input())\n",
    "    lis = []\n",
    "    for i in range(0, N):\n",
    "        oper, *line = input().split()\n",
    "        if oper.lower() == \"insert\":\n",
    "            lis.insert(int(line[0]), int(line[1]))\n",
    "        elif oper.lower() == \"print\":\n",
    "            print(lis)\n",
    "        elif oper.lower() == \"remove\":\n",
    "            lis.remove(float(line[0]))\n",
    "        elif oper.lower() == \"append\":\n",
    "            lis.append(int(line[0]))\n",
    "        elif oper.lower() == \"sort\":\n",
    "            lis.sort()\n",
    "        elif oper.lower() == \"pop\":\n",
    "            lis.pop()\n",
    "        elif oper.lower() == \"reverse\":\n",
    "            lis.reverse()"
   ]
  },
  {
   "cell_type": "code",
   "execution_count": null,
   "metadata": {},
   "outputs": [],
   "source": [
    "#Tuples\n",
    "if __name__ == '__main__':\n",
    "    n = int(input())\n",
    "        \n",
    "    integer_list = tuple(map(int, input().split()))\n",
    "    \n",
    "    print(hash(integer_list))"
   ]
  },
  {
   "cell_type": "code",
   "execution_count": null,
   "metadata": {},
   "outputs": [],
   "source": [
    "#Introduction to sets\n",
    "def average(array):\n",
    "    total = sum(set(array))\n",
    "    length = len(set(array))\n",
    "    avg = float(total / length) \n",
    "    return \"%.3f\" % avg\n",
    "if __name__ == '__main__':\n",
    "    n = int(input())\n",
    "    arr = list(map(int, input().split()))\n",
    "    result = average(arr)\n",
    "    print(result)"
   ]
  },
  {
   "cell_type": "code",
   "execution_count": null,
   "metadata": {},
   "outputs": [],
   "source": [
    "#NO Idea!\n",
    "io = input().split()\n",
    "m = int(io[0])\n",
    "n = int(io[1])\n",
    "\n",
    "storage = list()\n",
    "count = 0\n",
    "\n",
    "storage = list(map(int, input().strip().split()))\n",
    "\n",
    "A = set(map(int, input().strip().split()))\n",
    "B = set(map(int, input().strip().split()))\n",
    "\n",
    "for i in storage:\n",
    "    if i in A:\n",
    "        count = count+1\n",
    "    if i in B:\n",
    "        count = count-1\n",
    "\n",
    "print(count)"
   ]
  },
  {
   "cell_type": "code",
   "execution_count": null,
   "metadata": {},
   "outputs": [],
   "source": [
    "#Symmetric difference\n",
    "m = int(input())\n",
    "m_no = set(map(int, input().split()))\n",
    "n  = int(input())\n",
    "n_no = set(map(int, input().split()))\n",
    "diff = m_no.symmetric_difference(n_no)\n",
    "asce_order = sorted(diff)\n",
    "for i in asce_order:\n",
    "    print(i)"
   ]
  },
  {
   "cell_type": "code",
   "execution_count": null,
   "metadata": {},
   "outputs": [],
   "source": [
    "#Set.add()\n",
    "n  = int(input())\n",
    "stamps = set()\n",
    "for i in range(n):\n",
    "    stamps.add(input())\n",
    "\n",
    "print(len(stamps))"
   ]
  },
  {
   "cell_type": "code",
   "execution_count": null,
   "metadata": {},
   "outputs": [],
   "source": [
    "\n",
    "#Set.discard(), .pop(), .remove() \n",
    "n = int(input())\n",
    "s = set(map(int, input().split()))  \n",
    "N = int(input())\n",
    "for i in range(0, N):\n",
    "    oper, *line = input().split()\n",
    "    if oper.lower() == \"remove\":\n",
    "        s.remove(int(line[0]))\n",
    "    elif oper.lower() == \"pop\":\n",
    "        s.pop()\n",
    "    elif oper.lower() == \"discard\":\n",
    "        s.discard(int(line[0]))\n",
    "        continue\n",
    "print(sum(s))"
   ]
  },
  {
   "cell_type": "code",
   "execution_count": null,
   "metadata": {},
   "outputs": [],
   "source": [
    "#Set union() operation\n",
    "n = int(input())\n",
    "english = set(map(int, input().split()))\n",
    "b = int(input())\n",
    "french = set(map(int, input().split()))\n",
    "print(len(english.union(french)))"
   ]
  },
  {
   "cell_type": "code",
   "execution_count": null,
   "metadata": {},
   "outputs": [],
   "source": [
    "\n",
    "#S.intersection() operation\n",
    "n = int(input())\n",
    "english = set(map(int, input().split()))\n",
    "b = int(input())\n",
    "french = set(map(int,input().split()))\n",
    "\n",
    "print(len(english.intersection(french)))"
   ]
  },
  {
   "cell_type": "code",
   "execution_count": null,
   "metadata": {},
   "outputs": [],
   "source": [
    "#S.difference() operation\n",
    "e = int(input())\n",
    "english = set(map(int, input(). split()))\n",
    "f = int(input())\n",
    "french = set(map(int, input().split())) \n",
    "\n",
    "print(len(english.difference(french)))"
   ]
  },
  {
   "cell_type": "code",
   "execution_count": null,
   "metadata": {},
   "outputs": [],
   "source": [
    "\n",
    "#Set.symetric_difference() operator\n",
    "n = int(input())\n",
    "english = set(map(int, input().split()))\n",
    "m = int(input())\n",
    "french = set(map(int, input().split()))\n",
    "\n",
    "selected = english.symmetric_difference(french)\n",
    "print(len(selected))"
   ]
  },
  {
   "cell_type": "code",
   "execution_count": null,
   "metadata": {},
   "outputs": [],
   "source": [
    "#set Mutations\n",
    "n = int(input())\n",
    "A = set(map(int, input().split()))\n",
    "N = int(input())\n",
    "for i in range(N):\n",
    "    oper, *line = input().split()\n",
    "    B = set(map(int, input().split())) \n",
    "    if oper.lower() == \"intersection_update\":\n",
    "        A.intersection_update(B)\n",
    "    elif oper.lower() == \"update\":\n",
    "        A.update(B)\n",
    "    elif oper.lower() == \"symmetric_difference_update\":\n",
    "        A.symmetric_difference_update(B)\n",
    "    elif oper.lower() == \"difference_update\":\n",
    "        A.difference_update(B)\n",
    "        \n",
    "print(sum(A))"
   ]
  },
  {
   "cell_type": "code",
   "execution_count": null,
   "metadata": {},
   "outputs": [],
   "source": [
    "\n",
    "#The Captains Room\n",
    "K = int(input())\n",
    "rooms = list(map(int, input().split()))\n",
    "rooms_m = rooms\n",
    "num = set()\n",
    "for ele in rooms:\n",
    "    if ele not in num:\n",
    "        num.add(ele)\n",
    "        if ele in rooms_m:\n",
    "            rooms_m.remove(ele)\n",
    "print(num.difference(rooms_m).pop())"
   ]
  },
  {
   "cell_type": "code",
   "execution_count": null,
   "metadata": {},
   "outputs": [],
   "source": [
    "T = int(input())\n",
    "for i in range(T):\n",
    "    n = int(input())\n",
    "    A = set(map(int, (input().split())))\n",
    "    m = int(input())\n",
    "    B = set(map(int, (input().split())))    \n",
    "    print(A.issubset(B))"
   ]
  },
  {
   "cell_type": "code",
   "execution_count": null,
   "metadata": {},
   "outputs": [],
   "source": [
    "\n",
    "3\n",
    "5\n",
    "1 2 3 5 6\n",
    "9\n",
    "9 8 5 6 3 2 1 4 7\n",
    "1\n",
    "2\n",
    "5\n",
    "3 6 5 4 1\n",
    "7\n",
    "1 2 3 5 6 8 9\n",
    "3\n",
    "9 8 2\n"
   ]
  },
  {
   "cell_type": "code",
   "execution_count": null,
   "metadata": {},
   "outputs": [],
   "source": [
    "#Check Super Set\n",
    "A = set(map(int, input().split()))\n",
    "n = int(input())\n",
    "\n",
    "B = set(map(int, input().split()))\n",
    "C = set(map(int, input().split()))\n",
    "print(A.issuperset(B) and A.issuperset(C))"
   ]
  }
 ],
 "metadata": {
  "kernelspec": {
   "display_name": "Python 3",
   "language": "python",
   "name": "python3"
  },
  "language_info": {
   "codemirror_mode": {
    "name": "ipython",
    "version": 3
   },
   "file_extension": ".py",
   "mimetype": "text/x-python",
   "name": "python",
   "nbconvert_exporter": "python",
   "pygments_lexer": "ipython3",
   "version": "3.7.4"
  }
 },
 "nbformat": 4,
 "nbformat_minor": 2
}
